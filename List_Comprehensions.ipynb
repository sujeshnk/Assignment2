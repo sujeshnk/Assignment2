{
  "nbformat": 4,
  "nbformat_minor": 0,
  "metadata": {
    "colab": {
      "name": "List_Comprehensions.ipynb",
      "provenance": []
    },
    "kernelspec": {
      "name": "python3",
      "display_name": "Python 3"
    },
    "language_info": {
      "name": "python"
    }
  },
  "cells": [
    {
      "cell_type": "code",
      "metadata": {
        "colab": {
          "base_uri": "https://localhost:8080/"
        },
        "id": "_XHHtny-CnVm",
        "outputId": "df038661-289f-42b0-955e-13d6f2a64854"
      },
      "source": [
        "# List Comprehensions\n",
        "list1 = [2, 10, 7, 14, 5, 49, 64, 17, 21, 70, 88, 77, 19, 1, 13]\n",
        "divide_by_7 = []\n",
        "for item in list1:\n",
        " if item%7 == 0:\n",
        "  divide_by_7.append(item)\n",
        "print(\"Without list comprehensions\", divide_by_7)\n",
        "print(\"With list comprehensions\", [item for item in list1 if item%7 == 0])"
      ],
      "execution_count": 1,
      "outputs": [
        {
          "output_type": "stream",
          "text": [
            "Without list comprehensions [7, 14, 49, 21, 70, 77]\n",
            "With list comprehensions [7, 14, 49, 21, 70, 77]\n"
          ],
          "name": "stdout"
        }
      ]
    }
  ]
}